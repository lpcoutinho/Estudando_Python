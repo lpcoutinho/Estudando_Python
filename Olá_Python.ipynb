{
  "nbformat": 4,
  "nbformat_minor": 0,
  "metadata": {
    "colab": {
      "name": "Olá Python.ipynb",
      "provenance": [],
      "collapsed_sections": [],
      "authorship_tag": "ABX9TyPMCD3ggWLA+C5+6SpelH9J",
      "include_colab_link": true
    },
    "kernelspec": {
      "name": "python3",
      "display_name": "Python 3"
    }
  },
  "cells": [
    {
      "cell_type": "markdown",
      "metadata": {
        "id": "view-in-github",
        "colab_type": "text"
      },
      "source": [
        "<a href=\"https://colab.research.google.com/github/lpcoutinho/Estudando_Python/blob/master/Ol%C3%A1_Python.ipynb\" target=\"_parent\"><img src=\"https://colab.research.google.com/assets/colab-badge.svg\" alt=\"Open In Colab\"/></a>"
      ]
    },
    {
      "cell_type": "markdown",
      "metadata": {
        "id": "fyNLgcs9hJFj",
        "colab_type": "text"
      },
      "source": [
        "# **Olá, Python!**\n",
        "\n",
        "Este notebook aborda as principais habilidades em Python necessárias para quem deseja começar a usar o Python em ciência de dados.\n",
        "\n",
        "É ideal para alguém com alguma experiência anterior em codificação e que deseje iniciar com Python ou aprimorar suas habilidades.\n",
        "\n",
        "Se é sua primeira experiência com Python recomendo dar uma lida em [Python for Non-Programmers](https://wiki.python.org/moin/BeginnersGuide/NonProgrammers)\n",
        "\n",
        "Vamos começar com uma breve visão de sintaxe em Python, atribuição de variáveis e operadores aritiméticos.\n",
        "\n",
        "Se você já tem experiência em Python [pode ir direto a parte prática](https://www.kaggle.com/lpcoutinho/exercise-syntax-variables-and-numbers/edit)!\n",
        "\n",
        "## **Vamos lá!**\n",
        "Para começar, tente ler o código abaixo e prever o que ele fará quando for executado. (Se você não tem ideia, tudo bem!)\n",
        "\n",
        "Em seguida, pressione ``` ctrl + Enter ```para ver os resultados do nosso programa."
      ]
    },
    {
      "cell_type": "code",
      "metadata": {
        "id": "WTk3nKbtkEg2",
        "colab_type": "code",
        "outputId": "390915d7-34a8-4af6-f8bd-0404c56ae304",
        "colab": {
          "base_uri": "https://localhost:8080/",
          "height": 68
        }
      },
      "source": [
        "x = 0\n",
        "print(x)\n",
        "\n",
        "# Ordering Spam, egg, Spam, Spam, bacon and Spam (4 more servings of Spam)\n",
        "x = x + 3\n",
        "\n",
        "if x > 0:\n",
        "    print(\"Sou uma variável!\")\n",
        "\n",
        "repete = \"Variável \" * x\n",
        "print(repete)"
      ],
      "execution_count": 0,
      "outputs": [
        {
          "output_type": "stream",
          "text": [
            "0\n",
            "Sou uma variável!\n",
            "Variável Variável Variável \n"
          ],
          "name": "stdout"
        }
      ]
    },
    {
      "cell_type": "markdown",
      "metadata": {
        "id": "oW-QgCu5ldkT",
        "colab_type": "text"
      },
      "source": [
        "Este programinha demonstra muitos aspectos importantes de como é o código Python e como ele funciona. \n",
        "\n",
        "Vamos revisar o código e ver como ele funciona."
      ]
    },
    {
      "cell_type": "code",
      "metadata": {
        "id": "TazyzV8klv-8",
        "colab_type": "code",
        "colab": {}
      },
      "source": [
        "x = 0"
      ],
      "execution_count": 0,
      "outputs": []
    },
    {
      "cell_type": "markdown",
      "metadata": {
        "id": "86FjkdpEl0of",
        "colab_type": "text"
      },
      "source": [
        "Aqui criamos uma variável e chamamos ela de ```x ``` \n",
        "\n",
        "Em seguida atribuímos a ela o valor ``` 0 ``` usando ``` = ```. Quando este sinal aparece uma única vez o chamamos de operador de atribuição.\n",
        "\n",
        "Além disso, se você já programou em outra linguagem pode perceber que não precisamos declarar que tipo de variável é ``` x ```. \n",
        "\n",
        "Python é uma linguagem fracamente tipada, isso quer dizer que uma variável pode receber qualquer tipo, seja ele inteiro, string, etc.\n"
      ]
    },
    {
      "cell_type": "code",
      "metadata": {
        "id": "tMApEOdfmPzB",
        "colab_type": "code",
        "outputId": "636220d3-639b-4fc5-9ff3-da21549183c4",
        "colab": {
          "base_uri": "https://localhost:8080/",
          "height": 34
        }
      },
      "source": [
        "print(x)"
      ],
      "execution_count": 0,
      "outputs": [
        {
          "output_type": "stream",
          "text": [
            "0\n"
          ],
          "name": "stdout"
        }
      ]
    },
    {
      "cell_type": "markdown",
      "metadata": {
        "id": "oV_i2IFunaJg",
        "colab_type": "text"
      },
      "source": [
        "Chamando a função ``` print ```\n",
        "\n",
        "``` print ``` é uma função Python que exibe o valor passado na tela. \n",
        "\n",
        "Chamamos funções colocando parênteses após o nome e colocando as entradas (ou argumentos) para a função nesses parênteses."
      ]
    },
    {
      "cell_type": "code",
      "metadata": {
        "id": "4AlEx2irnNdA",
        "colab_type": "code",
        "colab": {}
      },
      "source": [
        "# Reatribuindo valor a variável\n",
        "x = x + 3"
      ],
      "execution_count": 0,
      "outputs": []
    },
    {
      "cell_type": "markdown",
      "metadata": {
        "id": "8umBs8minyc6",
        "colab_type": "text"
      },
      "source": [
        "A primeira linha é um comentário. Em Python, os comentários começam com o símbolo ``` # ```.\n",
        "\n",
        "A seguir, vemos um exemplo de reatribuição. Reatribuir o valor de uma variável existente parece exatamente o mesmo que criar uma variável - usamos o operador ``` = ```.\n",
        "\n",
        "Nesse caso, o valor que estamos atribuindo a ``` x ``` envolve aritmética simples em seu valor anterior. \n",
        "\n",
        "Quando encontra essa linha, o Python avalia a expressão no lado direito de ```  = (0 + 3 = 3) ``` e atribui esse valor à variável no lado esquerdo.\n"
      ]
    },
    {
      "cell_type": "code",
      "metadata": {
        "id": "PB6lTQh4oapN",
        "colab_type": "code",
        "colab": {}
      },
      "source": [
        "if x > 0:\n",
        "    print(\"Sou uma variável!\")\n",
        "\n",
        "repete = \"Variável \" * x\n",
        "print(repete)"
      ],
      "execution_count": 0,
      "outputs": []
    },
    {
      "cell_type": "markdown",
      "metadata": {
        "id": "VBfR9f7Vots4",
        "colab_type": "text"
      },
      "source": [
        "Não sobre \"condicionais\" agora, mas  mesmo que você nunca tenha codificado provavelmente vai adivinhar o que isso faz. Python é simples e fácil de entender.\n",
        "\n",
        "Observe como indicamos o código pertence ao ```if```. ```\"Sou uma variável\" ```deve ser impresso apenas se \"x\" for maior que \"0\". \n",
        "\n",
        "O código seguinte  ```print (x)``` deve ser executado não importa o que ocorra. \n",
        "\n",
        "Como nós e Python sabemos disso?"
      ]
    },
    {
      "cell_type": "markdown",
      "metadata": {
        "id": "-WdpoTkKqdrD",
        "colab_type": "text"
      },
      "source": [
        "```:``` no final da linha ```if ``` indicam que um novo \"bloco de código\" está sendo iniciado. \n",
        "\n",
        "As linhas subsequentes recuadas fazem parte desse bloco de código. Chamamos isso de identação. \n",
        "\n",
        "Algumas outras linguagens usam ```{}``` para marcar o início e o fim dos blocos de código. \n",
        "\n",
        "O uso de espaços em branco significativos pelo Python pode surpreender os programadores acostumados a outras linguagens, mas na prática, pode levar a um código mais consistente e legível do que as linguagens que não impõem a indentação de blocos de código.\n",
        "\n",
        "As linhas posteriores que lidam com ``` repete ``` não são recuadas com 4 espaços extras, portanto, elas não fazem parte do bloco de código do if.\n",
        "\n",
        "Veremos mais exemplos de blocos de código identado mais tarde, quando definirmos funções e usar loops.\n",
        "\n",
        "Este trecho de código também é a nossa primeira observação de uma string no Python:\n",
        "\n",
        "``` \"Sou uma variável!\" ```\n",
        "\n",
        "Strings podem ser marcadas com aspas simples ou duplas, mas cuidado para não confundir o Python se em seu texto houver aspas simples"
      ]
    },
    {
      "cell_type": "code",
      "metadata": {
        "id": "F_pKWshLtLtL",
        "colab_type": "code",
        "colab": {}
      },
      "source": [
        "repete = \"Variável \" * x\n",
        "print(repete)"
      ],
      "execution_count": 0,
      "outputs": []
    },
    {
      "cell_type": "markdown",
      "metadata": {
        "id": "eAonqV4ftN2c",
        "colab_type": "text"
      },
      "source": [
        "``` * ``` é o operador de multiplicação. Podemos usá-lo com um ou mais números, mas também podemos usar para multiplicar uma sequência para obter algo repetidas vezes, como no exemplo.\n",
        "\n",
        "Python oferece vários truques para economizar tempo como este, em que operadores como ``` * ```  e ``` + ```têm significado diferente, dependendo de que tipo de coisa são aplicados. (O termo técnico para isso é sobrecarga do operador)\n",
        "\n",
        "## **Números e aritimética com Python**\n",
        "\n",
        "Já vimos um exemplo de variável que contém um número acima:\n",
        "\n",
        "```  ```"
      ]
    },
    {
      "cell_type": "code",
      "metadata": {
        "id": "u7xmCL-xqSr3",
        "colab_type": "code",
        "colab": {}
      },
      "source": [
        "x = 0"
      ],
      "execution_count": 0,
      "outputs": []
    },
    {
      "cell_type": "markdown",
      "metadata": {
        "id": "fFM9WX9PtEqQ",
        "colab_type": "text"
      },
      "source": [
        "Podemos chamar isso de\"número\", mas não estaríamos sendo muito técnicos. Podemos perguntar ao Python que tipo de coisa é ``` x ```:"
      ]
    },
    {
      "cell_type": "code",
      "metadata": {
        "id": "sEtzrOv7vl8X",
        "colab_type": "code",
        "outputId": "41ab7c6b-87f2-4eff-f3e6-17b7007441ed",
        "colab": {
          "base_uri": "https://localhost:8080/",
          "height": 34
        }
      },
      "source": [
        "type(x)"
      ],
      "execution_count": 0,
      "outputs": [
        {
          "output_type": "execute_result",
          "data": {
            "text/plain": [
              "int"
            ]
          },
          "metadata": {
            "tags": []
          },
          "execution_count": 6
        }
      ]
    },
    {
      "cell_type": "markdown",
      "metadata": {
        "id": "BHiNj2g6vs3O",
        "colab_type": "text"
      },
      "source": [
        "``` x ``` é um tipo ``` int ```, abreviação de inteiro. Existe outro tipo de número em Python:"
      ]
    },
    {
      "cell_type": "code",
      "metadata": {
        "id": "hmbKhD--voOC",
        "colab_type": "code",
        "outputId": "ff55a258-c1c6-4954-ec90-281a565a3c86",
        "colab": {
          "base_uri": "https://localhost:8080/",
          "height": 34
        }
      },
      "source": [
        "type(12.78)"
      ],
      "execution_count": 0,
      "outputs": [
        {
          "output_type": "execute_result",
          "data": {
            "text/plain": [
              "float"
            ]
          },
          "metadata": {
            "tags": []
          },
          "execution_count": 7
        }
      ]
    },
    {
      "cell_type": "markdown",
      "metadata": {
        "id": "icF87foCwdHR",
        "colab_type": "text"
      },
      "source": [
        "``` float ``` é um número decimal, muito usado para representar pesos e proporções\n",
        "\n",
        "``` type() ``` é uma função interna do Python que nos ajuda a saber que tipo de coisa é aquela em que estamos trabalhando.\n",
        "\n",
        "Vamos ver outros operadores aritiméticos:\n",
        "\n",
        "Operador |\tNome\t|Descrição\n",
        "---------|--------|-----------\n",
        "a + b\t|Adição\t|Soma de a e b\n",
        "a - b\t|Subtração | Diferença entre a e b\n",
        "a * b\t|Multiplicação |\tProduto de a e b\n",
        "a / b\t|Divisão real |\tQuociente de a e b total\n",
        "a // b|\tFloor division |\tQuociente de a e b inteiro, sem a parte fracionária\n",
        "a % b\t|Módulo | Resto da divisão de a por b\n",
        "a ** b|\tExponenciação |\ta elevado ao exponente b\n",
        "-a\t  |Negação\t| Valor negativo de a\n",
        "\n",
        "\n",
        "Uma observação interessante é que, embora nossas calculadoras tenham apenas um botão para divisão, o Python pode fazer dois tipos. \"Divisão real\" é basicamente o que sua calculadora faz:\n"
      ]
    },
    {
      "cell_type": "code",
      "metadata": {
        "id": "J9D1m9S9v882",
        "colab_type": "code",
        "outputId": "1b77d63e-ad12-4ae8-d9b5-462213e64fdd",
        "colab": {
          "base_uri": "https://localhost:8080/",
          "height": 51
        }
      },
      "source": [
        "print(3 / 2)\n",
        "print(6 / 2)"
      ],
      "execution_count": 0,
      "outputs": [
        {
          "output_type": "stream",
          "text": [
            "1.5\n",
            "3.0\n"
          ],
          "name": "stdout"
        }
      ]
    },
    {
      "cell_type": "markdown",
      "metadata": {
        "id": "GKWAHRSUzpnA",
        "colab_type": "text"
      },
      "source": [
        "O operador ```//``` retorna um resultado arredondado para o próximo número inteiro \n"
      ]
    },
    {
      "cell_type": "code",
      "metadata": {
        "id": "RXrX4_uSyNOo",
        "colab_type": "code",
        "outputId": "78f0e16a-62dc-450c-89ba-0cc501eb3e4d",
        "colab": {
          "base_uri": "https://localhost:8080/",
          "height": 51
        }
      },
      "source": [
        "print(3 // 2)\n",
        "print(6 // 2)"
      ],
      "execution_count": 0,
      "outputs": [
        {
          "output_type": "stream",
          "text": [
            "1\n",
            "3\n"
          ],
          "name": "stdout"
        }
      ]
    },
    {
      "cell_type": "markdown",
      "metadata": {
        "id": "n5lRmL6N0ajD",
        "colab_type": "text"
      },
      "source": [
        "Consegue pensar onde isso seria útil? Veremos um exemplo em breve nos desafios de codificação.\n",
        "\n",
        "#### **Ordem de operações**\n",
        "\n",
        "A aritmética que aprendemos na escola primária tem convenções sobre a ordem em que as operações são executadas.\n",
        "\n",
        "Python segue regras semelhantes sobre quais cálculos executar primeiro. Eles são bastante intuitivos."
      ]
    },
    {
      "cell_type": "code",
      "metadata": {
        "id": "uGfgzTVDyPgL",
        "colab_type": "code",
        "outputId": "9f0b1d31-2f1c-4de0-b737-71df1c5188d4",
        "colab": {
          "base_uri": "https://localhost:8080/",
          "height": 34
        }
      },
      "source": [
        "7 - 1 + 3"
      ],
      "execution_count": 0,
      "outputs": [
        {
          "output_type": "execute_result",
          "data": {
            "text/plain": [
              "9"
            ]
          },
          "metadata": {
            "tags": []
          },
          "execution_count": 12
        }
      ]
    },
    {
      "cell_type": "code",
      "metadata": {
        "id": "xZQLcxlQ1HQU",
        "colab_type": "code",
        "outputId": "826ee677-63f8-4619-c8a5-1d623ee9e2c2",
        "colab": {
          "base_uri": "https://localhost:8080/",
          "height": 34
        }
      },
      "source": [
        "-2 + 5 * 5"
      ],
      "execution_count": 0,
      "outputs": [
        {
          "output_type": "execute_result",
          "data": {
            "text/plain": [
              "23"
            ]
          },
          "metadata": {
            "tags": []
          },
          "execution_count": 13
        }
      ]
    },
    {
      "cell_type": "markdown",
      "metadata": {
        "id": "7NKoiePu1d-Z",
        "colab_type": "text"
      },
      "source": [
        "Às vezes, a ordem padrão das operações não é o que queremos:"
      ]
    },
    {
      "cell_type": "code",
      "metadata": {
        "id": "vDsT81wU1T2A",
        "colab_type": "code",
        "outputId": "9d9aa230-49be-4cb1-ad21-e8135ffd2af3",
        "colab": {
          "base_uri": "https://localhost:8080/",
          "height": 34
        }
      },
      "source": [
        "muro1_cm = 200\n",
        "muro2_cm = 210\n",
        "# Qual o tamanho do muro, em metros, quando juntamos os dois muros?\n",
        "total_metros = muro1_cm + muro2_cm / 100\n",
        "print(\"O tamanho do muro em metros é =\", total_metros, \"?\")"
      ],
      "execution_count": 0,
      "outputs": [
        {
          "output_type": "stream",
          "text": [
            "O tamanho do muro em metros é = 202.1 ?\n"
          ],
          "name": "stdout"
        }
      ]
    },
    {
      "cell_type": "markdown",
      "metadata": {
        "id": "74i8MkDm2jVu",
        "colab_type": "text"
      },
      "source": [
        "Parênteses são úteis aqui. Devemos adicioná-los para forçar o Python a avaliar subexpressões na ordem desejada."
      ]
    },
    {
      "cell_type": "code",
      "metadata": {
        "id": "3HJGdC0M1kc3",
        "colab_type": "code",
        "outputId": "a74d45f5-e98a-4018-e0a0-ff6df60963dc",
        "colab": {
          "base_uri": "https://localhost:8080/",
          "height": 34
        }
      },
      "source": [
        "total_metros = (muro1_cm + muro2_cm) / 100\n",
        "print(\"O tamanho do muro em metros é =\", total_metros, \"m !\")"
      ],
      "execution_count": 0,
      "outputs": [
        {
          "output_type": "stream",
          "text": [
            "O tamanho do muro em metros é = 4.1 m !\n"
          ],
          "name": "stdout"
        }
      ]
    },
    {
      "cell_type": "markdown",
      "metadata": {
        "id": "2qMMwnJw3Fpe",
        "colab_type": "text"
      },
      "source": [
        "#### **Funções internas para trabalhar com números**\n",
        "``` min ``` e ``` max ```retornam o mínimo e o máximo de seus argumentos, respectivamente ..."
      ]
    },
    {
      "cell_type": "code",
      "metadata": {
        "id": "xIj3aleX2yiV",
        "colab_type": "code",
        "outputId": "0a572071-5db7-4b64-f8c9-f7506c46487d",
        "colab": {
          "base_uri": "https://localhost:8080/",
          "height": 51
        }
      },
      "source": [
        "print(min(17, 74, 43))\n",
        "print(max(65, 24, 38))"
      ],
      "execution_count": 0,
      "outputs": [
        {
          "output_type": "stream",
          "text": [
            "17\n",
            "65\n"
          ],
          "name": "stdout"
        }
      ]
    },
    {
      "cell_type": "markdown",
      "metadata": {
        "id": "7Hla6j-53nmu",
        "colab_type": "text"
      },
      "source": [
        "\n",
        "``` abs ``` retorna o valor absoluto do argumento\n",
        "\n",
        "\n"
      ]
    },
    {
      "cell_type": "code",
      "metadata": {
        "id": "JbyCXOAz3ja8",
        "colab_type": "code",
        "outputId": "d4b89c00-a3d4-4458-c7f5-4b54efe47936",
        "colab": {
          "base_uri": "https://localhost:8080/",
          "height": 51
        }
      },
      "source": [
        "print(abs(47))\n",
        "print(abs(-47))"
      ],
      "execution_count": 0,
      "outputs": [
        {
          "output_type": "stream",
          "text": [
            "47\n",
            "47\n"
          ],
          "name": "stdout"
        }
      ]
    },
    {
      "cell_type": "markdown",
      "metadata": {
        "id": "8YRfgqC94G20",
        "colab_type": "text"
      },
      "source": [
        "Além de serem os nomes dos dois principais tipos numéricos do Python, ``` int ```e ``` float ``` também podem ser chamados como funções que convertem seus argumentos no tipo correspondente:\n"
      ]
    },
    {
      "cell_type": "code",
      "metadata": {
        "id": "L9hyMSCk4Gg9",
        "colab_type": "code",
        "outputId": "4eb4b421-f70a-4fc9-eaca-cf8cfd007c6c",
        "colab": {
          "base_uri": "https://localhost:8080/",
          "height": 68
        }
      },
      "source": [
        "print(float(35))\n",
        "print(int(4.72))\n",
        "# Também podemos chamar em strings\n",
        "print(int('49') + 1)"
      ],
      "execution_count": 0,
      "outputs": [
        {
          "output_type": "stream",
          "text": [
            "35.0\n",
            "4\n",
            "50\n"
          ],
          "name": "stdout"
        }
      ]
    },
    {
      "cell_type": "code",
      "metadata": {
        "id": "HvtSsJtv3x6G",
        "colab_type": "code",
        "colab": {}
      },
      "source": [
        ""
      ],
      "execution_count": 0,
      "outputs": []
    }
  ]
}